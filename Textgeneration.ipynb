{
 "cells": [
  {
   "cell_type": "code",
   "execution_count": 2,
   "id": "85a416d8",
   "metadata": {},
   "outputs": [],
   "source": [
    "import tensorflow as tf\n",
    "import numpy as np\n",
    "import os"
   ]
  },
  {
   "cell_type": "code",
   "execution_count": 3,
   "id": "0619e5e9",
   "metadata": {},
   "outputs": [],
   "source": [
    "file = '/home/mitraa/shaksepeare'"
   ]
  },
  {
   "cell_type": "code",
   "execution_count": 4,
   "id": "2af11f81",
   "metadata": {},
   "outputs": [
    {
     "data": {
      "text/plain": [
       "str"
      ]
     },
     "execution_count": 4,
     "metadata": {},
     "output_type": "execute_result"
    }
   ],
   "source": [
    "type(file)"
   ]
  },
  {
   "cell_type": "code",
   "execution_count": 5,
   "id": "7f8b6544",
   "metadata": {},
   "outputs": [
    {
     "data": {
      "text/plain": [
       "str"
      ]
     },
     "execution_count": 5,
     "metadata": {},
     "output_type": "execute_result"
    }
   ],
   "source": [
    "text = open(file, 'rb').read().decode(encoding='utf-8')\n",
    "type(text)"
   ]
  },
  {
   "cell_type": "code",
   "execution_count": 6,
   "id": "b3dd0808",
   "metadata": {},
   "outputs": [
    {
     "name": "stdout",
     "output_type": "stream",
     "text": [
      "First Citizen:\n",
      "Before we proceed any further, hear me speak.\n",
      "\n",
      "All:\n",
      "Speak, speak.\n",
      "\n",
      "First Citizen:\n",
      "You are all resolved rather to die than to famish?\n",
      "\n",
      "All:\n",
      "Resolved. resolved.\n",
      "\n",
      "First Citizen:\n",
      "First, you know Caius Marcius is chief enemy to the people.\n",
      "\n",
      "All:\n",
      "We know't, we know't.\n",
      "\n",
      "First Citizen:\n",
      "Let us kill him, and we'll have corn at our own price.\n",
      "Is't a verdict?\n",
      "\n",
      "All:\n",
      "No more talking on't; let it be done: away, away!\n",
      "\n",
      "Second Citizen:\n",
      "One word, good citizens.\n",
      "\n",
      "First Citizen:\n",
      "We are accounted poor citizens, the patricians good.\n",
      "What authority surfeits on would relieve us: if they\n",
      "would yield us but the superfluity, while it were\n",
      "wholesome, we might guess they relieved us humanely;\n",
      "but they think we are too dear: the leanness that\n",
      "afflicts us, the object of our misery, is as an\n",
      "inventory to particularise their abundance; our\n",
      "sufferance is a gain to them Let us revenge this with\n",
      "our pikes, ere we become rakes: for the gods know I\n",
      "speak this in hunger for bread, not in thirst for revenge.\n",
      "\n",
      "\n"
     ]
    }
   ],
   "source": [
    "print(text[:1000])"
   ]
  },
  {
   "cell_type": "code",
   "execution_count": 7,
   "id": "0c93d343",
   "metadata": {},
   "outputs": [
    {
     "data": {
      "text/plain": [
       "1115394"
      ]
     },
     "execution_count": 7,
     "metadata": {},
     "output_type": "execute_result"
    }
   ],
   "source": [
    "len(text)"
   ]
  },
  {
   "cell_type": "code",
   "execution_count": 8,
   "id": "5d9a1f0e",
   "metadata": {},
   "outputs": [
    {
     "data": {
      "text/plain": [
       "65"
      ]
     },
     "execution_count": 8,
     "metadata": {},
     "output_type": "execute_result"
    }
   ],
   "source": [
    "# how many unique carachters are \n",
    "len(set(text))"
   ]
  },
  {
   "cell_type": "code",
   "execution_count": 9,
   "id": "3bcf6d45",
   "metadata": {},
   "outputs": [
    {
     "data": {
      "text/plain": [
       "['\\n',\n",
       " ' ',\n",
       " '!',\n",
       " '$',\n",
       " '&',\n",
       " \"'\",\n",
       " ',',\n",
       " '-',\n",
       " '.',\n",
       " '3',\n",
       " ':',\n",
       " ';',\n",
       " '?',\n",
       " 'A',\n",
       " 'B',\n",
       " 'C',\n",
       " 'D',\n",
       " 'E',\n",
       " 'F',\n",
       " 'G',\n",
       " 'H',\n",
       " 'I',\n",
       " 'J',\n",
       " 'K',\n",
       " 'L',\n",
       " 'M',\n",
       " 'N',\n",
       " 'O',\n",
       " 'P',\n",
       " 'Q',\n",
       " 'R',\n",
       " 'S',\n",
       " 'T',\n",
       " 'U',\n",
       " 'V',\n",
       " 'W',\n",
       " 'X',\n",
       " 'Y',\n",
       " 'Z',\n",
       " 'a',\n",
       " 'b',\n",
       " 'c',\n",
       " 'd',\n",
       " 'e',\n",
       " 'f',\n",
       " 'g',\n",
       " 'h',\n",
       " 'i',\n",
       " 'j',\n",
       " 'k',\n",
       " 'l',\n",
       " 'm',\n",
       " 'n',\n",
       " 'o',\n",
       " 'p',\n",
       " 'q',\n",
       " 'r',\n",
       " 's',\n",
       " 't',\n",
       " 'u',\n",
       " 'v',\n",
       " 'w',\n",
       " 'x',\n",
       " 'y',\n",
       " 'z']"
      ]
     },
     "execution_count": 9,
     "metadata": {},
     "output_type": "execute_result"
    }
   ],
   "source": [
    "vocab = sorted(set(text))\n",
    "vocab"
   ]
  },
  {
   "cell_type": "code",
   "execution_count": 10,
   "id": "f4a8ec8c",
   "metadata": {},
   "outputs": [
    {
     "data": {
      "text/plain": [
       "{'\\n': 0,\n",
       " ' ': 1,\n",
       " '!': 2,\n",
       " '$': 3,\n",
       " '&': 4,\n",
       " \"'\": 5,\n",
       " ',': 6,\n",
       " '-': 7,\n",
       " '.': 8,\n",
       " '3': 9,\n",
       " ':': 10,\n",
       " ';': 11,\n",
       " '?': 12,\n",
       " 'A': 13,\n",
       " 'B': 14,\n",
       " 'C': 15,\n",
       " 'D': 16,\n",
       " 'E': 17,\n",
       " 'F': 18,\n",
       " 'G': 19,\n",
       " 'H': 20,\n",
       " 'I': 21,\n",
       " 'J': 22,\n",
       " 'K': 23,\n",
       " 'L': 24,\n",
       " 'M': 25,\n",
       " 'N': 26,\n",
       " 'O': 27,\n",
       " 'P': 28,\n",
       " 'Q': 29,\n",
       " 'R': 30,\n",
       " 'S': 31,\n",
       " 'T': 32,\n",
       " 'U': 33,\n",
       " 'V': 34,\n",
       " 'W': 35,\n",
       " 'X': 36,\n",
       " 'Y': 37,\n",
       " 'Z': 38,\n",
       " 'a': 39,\n",
       " 'b': 40,\n",
       " 'c': 41,\n",
       " 'd': 42,\n",
       " 'e': 43,\n",
       " 'f': 44,\n",
       " 'g': 45,\n",
       " 'h': 46,\n",
       " 'i': 47,\n",
       " 'j': 48,\n",
       " 'k': 49,\n",
       " 'l': 50,\n",
       " 'm': 51,\n",
       " 'n': 52,\n",
       " 'o': 53,\n",
       " 'p': 54,\n",
       " 'q': 55,\n",
       " 'r': 56,\n",
       " 's': 57,\n",
       " 't': 58,\n",
       " 'u': 59,\n",
       " 'v': 60,\n",
       " 'w': 61,\n",
       " 'x': 62,\n",
       " 'y': 63,\n",
       " 'z': 64}"
      ]
     },
     "execution_count": 10,
     "metadata": {},
     "output_type": "execute_result"
    }
   ],
   "source": [
    "c2i = {a:i for i,a in enumerate(vocab)}\n",
    "c2i"
   ]
  },
  {
   "cell_type": "code",
   "execution_count": 13,
   "id": "67ac1830",
   "metadata": {},
   "outputs": [
    {
     "data": {
      "text/plain": [
       "62"
      ]
     },
     "execution_count": 13,
     "metadata": {},
     "output_type": "execute_result"
    }
   ],
   "source": [
    "c2i['x']"
   ]
  },
  {
   "cell_type": "code",
   "execution_count": 14,
   "id": "0ce48938",
   "metadata": {},
   "outputs": [
    {
     "data": {
      "text/plain": [
       "'x'"
      ]
     },
     "execution_count": 14,
     "metadata": {},
     "output_type": "execute_result"
    }
   ],
   "source": [
    "i2c = np.array(vocab)\n",
    "i2c[62]"
   ]
  },
  {
   "cell_type": "code",
   "execution_count": 15,
   "id": "ad365cc2",
   "metadata": {},
   "outputs": [
    {
     "data": {
      "text/plain": [
       "array([18, 47, 56, 57, 58,  1, 15, 47, 58, 47])"
      ]
     },
     "execution_count": 15,
     "metadata": {},
     "output_type": "execute_result"
    }
   ],
   "source": [
    "text_as_seq_of_ints = np.array([c2i[a] for a in text])\n",
    "text_as_seq_of_ints[:10]"
   ]
  },
  {
   "cell_type": "code",
   "execution_count": 16,
   "id": "8701602e",
   "metadata": {},
   "outputs": [
    {
     "data": {
      "text/plain": [
       "array(['F', 'i', 'r', 's', 't', ' ', 'C', 'i', 't', 'i'], dtype='<U1')"
      ]
     },
     "execution_count": 16,
     "metadata": {},
     "output_type": "execute_result"
    }
   ],
   "source": [
    "i2c[text_as_seq_of_ints[:10]]"
   ]
  },
  {
   "cell_type": "code",
   "execution_count": 17,
   "id": "52819536",
   "metadata": {},
   "outputs": [],
   "source": [
    "seq_length = 120\n",
    "examples_per_epoch = len(text)//(seq_length+1)"
   ]
  },
  {
   "cell_type": "code",
   "execution_count": 19,
   "id": "01ce5be4",
   "metadata": {},
   "outputs": [],
   "source": [
    "char_dataset = tf.data.Dataset.from_tensor_slices(text_as_seq_of_ints)"
   ]
  },
  {
   "cell_type": "code",
   "execution_count": 20,
   "id": "0501aaf0",
   "metadata": {},
   "outputs": [
    {
     "name": "stdout",
     "output_type": "stream",
     "text": [
      "F 18\n",
      "i 47\n",
      "r 56\n",
      "s 57\n",
      "t 58\n",
      "  1\n",
      "C 15\n",
      "i 47\n",
      "t 58\n",
      "i 47\n",
      "z 64\n",
      "e 43\n",
      "n 52\n",
      ": 10\n",
      "\n",
      " 0\n",
      "B 14\n",
      "e 43\n",
      "f 44\n",
      "o 53\n",
      "r 56\n"
     ]
    }
   ],
   "source": [
    "for i in char_dataset.take(20):\n",
    "    print(i2c[i.numpy()],i.numpy())"
   ]
  },
  {
   "cell_type": "code",
   "execution_count": 21,
   "id": "fbb678fc",
   "metadata": {},
   "outputs": [],
   "source": [
    "seq = char_dataset.batch(seq_length+1,drop_remainder=True)"
   ]
  },
  {
   "cell_type": "code",
   "execution_count": 22,
   "id": "2e8499f8",
   "metadata": {},
   "outputs": [
    {
     "name": "stdout",
     "output_type": "stream",
     "text": [
      "['F' 'i' 'r' 's' 't' ' ' 'C' 'i' 't' 'i' 'z' 'e' 'n' ':' '\\n' 'B' 'e' 'f'\n",
      " 'o' 'r' 'e' ' ' 'w' 'e' ' ' 'p' 'r' 'o' 'c' 'e' 'e' 'd' ' ' 'a' 'n' 'y'\n",
      " ' ' 'f' 'u' 'r' 't' 'h' 'e' 'r' ',' ' ' 'h' 'e' 'a' 'r' ' ' 'm' 'e' ' '\n",
      " 's' 'p' 'e' 'a' 'k' '.' '\\n' '\\n' 'A' 'l' 'l' ':' '\\n' 'S' 'p' 'e' 'a'\n",
      " 'k' ',' ' ' 's' 'p' 'e' 'a' 'k' '.' '\\n' '\\n' 'F' 'i' 'r' 's' 't' ' ' 'C'\n",
      " 'i' 't' 'i' 'z' 'e' 'n' ':' '\\n' 'Y' 'o' 'u' ' ' 'a' 'r' 'e' ' ' 'a' 'l'\n",
      " 'l' ' ' 'r' 'e' 's' 'o' 'l' 'v' 'e' 'd' ' ' 'r' 'a' 't']\n",
      "['h' 'e' 'r' ' ' 't' 'o' ' ' 'd' 'i' 'e' ' ' 't' 'h' 'a' 'n' ' ' 't' 'o'\n",
      " ' ' 'f' 'a' 'm' 'i' 's' 'h' '?' '\\n' '\\n' 'A' 'l' 'l' ':' '\\n' 'R' 'e'\n",
      " 's' 'o' 'l' 'v' 'e' 'd' '.' ' ' 'r' 'e' 's' 'o' 'l' 'v' 'e' 'd' '.' '\\n'\n",
      " '\\n' 'F' 'i' 'r' 's' 't' ' ' 'C' 'i' 't' 'i' 'z' 'e' 'n' ':' '\\n' 'F' 'i'\n",
      " 'r' 's' 't' ',' ' ' 'y' 'o' 'u' ' ' 'k' 'n' 'o' 'w' ' ' 'C' 'a' 'i' 'u'\n",
      " 's' ' ' 'M' 'a' 'r' 'c' 'i' 'u' 's' ' ' 'i' 's' ' ' 'c' 'h' 'i' 'e' 'f'\n",
      " ' ' 'e' 'n' 'e' 'm' 'y' ' ' 't' 'o' ' ' 't' 'h' 'e' ' ']\n"
     ]
    }
   ],
   "source": [
    "for i in seq.take(2):\n",
    "    print(i2c[i.numpy()])"
   ]
  },
  {
   "cell_type": "code",
   "execution_count": 23,
   "id": "9d5d8af8",
   "metadata": {},
   "outputs": [],
   "source": [
    "def f_make_input_target_pairs(s):\n",
    "    input_text = s[:-1]\n",
    "    target_text = s[1:]\n",
    "    return input_text,target_text"
   ]
  },
  {
   "cell_type": "code",
   "execution_count": 24,
   "id": "68c62032",
   "metadata": {},
   "outputs": [],
   "source": [
    "dataset = seq.map(f_make_input_target_pairs)"
   ]
  },
  {
   "cell_type": "code",
   "execution_count": 25,
   "id": "e95ad8c0",
   "metadata": {},
   "outputs": [
    {
     "name": "stdout",
     "output_type": "stream",
     "text": [
      "['F' 'i' 'r' 's' 't' ' ' 'C' 'i' 't' 'i' 'z' 'e' 'n' ':' '\\n' 'B' 'e' 'f'\n",
      " 'o' 'r' 'e' ' ' 'w' 'e' ' ' 'p' 'r' 'o' 'c' 'e' 'e' 'd' ' ' 'a' 'n' 'y'\n",
      " ' ' 'f' 'u' 'r' 't' 'h' 'e' 'r' ',' ' ' 'h' 'e' 'a' 'r' ' ' 'm' 'e' ' '\n",
      " 's' 'p' 'e' 'a' 'k' '.' '\\n' '\\n' 'A' 'l' 'l' ':' '\\n' 'S' 'p' 'e' 'a'\n",
      " 'k' ',' ' ' 's' 'p' 'e' 'a' 'k' '.' '\\n' '\\n' 'F' 'i' 'r' 's' 't' ' ' 'C'\n",
      " 'i' 't' 'i' 'z' 'e' 'n' ':' '\\n' 'Y' 'o' 'u' ' ' 'a' 'r' 'e' ' ' 'a' 'l'\n",
      " 'l' ' ' 'r' 'e' 's' 'o' 'l' 'v' 'e' 'd' ' ' 'r' 'a']\n",
      "['i' 'r' 's' 't' ' ' 'C' 'i' 't' 'i' 'z' 'e' 'n' ':' '\\n' 'B' 'e' 'f' 'o'\n",
      " 'r' 'e' ' ' 'w' 'e' ' ' 'p' 'r' 'o' 'c' 'e' 'e' 'd' ' ' 'a' 'n' 'y' ' '\n",
      " 'f' 'u' 'r' 't' 'h' 'e' 'r' ',' ' ' 'h' 'e' 'a' 'r' ' ' 'm' 'e' ' ' 's'\n",
      " 'p' 'e' 'a' 'k' '.' '\\n' '\\n' 'A' 'l' 'l' ':' '\\n' 'S' 'p' 'e' 'a' 'k'\n",
      " ',' ' ' 's' 'p' 'e' 'a' 'k' '.' '\\n' '\\n' 'F' 'i' 'r' 's' 't' ' ' 'C' 'i'\n",
      " 't' 'i' 'z' 'e' 'n' ':' '\\n' 'Y' 'o' 'u' ' ' 'a' 'r' 'e' ' ' 'a' 'l' 'l'\n",
      " ' ' 'r' 'e' 's' 'o' 'l' 'v' 'e' 'd' ' ' 'r' 'a' 't']\n"
     ]
    }
   ],
   "source": [
    "for X,y in dataset.take(1):\n",
    "    print(i2c[X.numpy()])\n",
    "    print(i2c[y.numpy()])"
   ]
  },
  {
   "cell_type": "code",
   "execution_count": 26,
   "id": "780bdce8",
   "metadata": {},
   "outputs": [],
   "source": [
    "BS = 50\n",
    "dataset = dataset.shuffle(1000).batch(BS,drop_remainder=True)"
   ]
  },
  {
   "cell_type": "code",
   "execution_count": 27,
   "id": "3ade0aff",
   "metadata": {},
   "outputs": [],
   "source": [
    "VS = len(vocab)\n",
    "ED = 100\n",
    "NU = 1024"
   ]
  },
  {
   "cell_type": "code",
   "execution_count": 28,
   "id": "5d2d37cd",
   "metadata": {},
   "outputs": [],
   "source": [
    "def f_make_model(VS,ED,NU,BS):\n",
    "    model = tf.keras.Sequential([\n",
    "        tf.keras.layers.Embedding(VS,ED,\n",
    "                                  batch_input_shape=[BS,None]),\n",
    "        tf.keras.layers.GRU(NU,return_sequences=True,\n",
    "                           stateful=True),\n",
    "        tf.keras.layers.Dense(VS)\n",
    "    ])\n",
    "    return model"
   ]
  },
  {
   "cell_type": "code",
   "execution_count": 29,
   "id": "aed97e3c",
   "metadata": {},
   "outputs": [],
   "source": [
    "model = f_make_model(VS,ED,NU,BS)"
   ]
  },
  {
   "cell_type": "code",
   "execution_count": 30,
   "id": "4241efc1",
   "metadata": {},
   "outputs": [],
   "source": [
    "def f_loss(y,y_hat):\n",
    "    return tf.keras.losses.sparse_categorical_crossentropy(y,y_hat,from_logits=True)"
   ]
  },
  {
   "cell_type": "code",
   "execution_count": 31,
   "id": "e5df8a12",
   "metadata": {},
   "outputs": [],
   "source": [
    "model.compile(optimizer='adam',loss=f_loss)"
   ]
  },
  {
   "cell_type": "code",
   "execution_count": 32,
   "id": "c06d78be",
   "metadata": {},
   "outputs": [],
   "source": [
    "checkpoints_dir = './tr_chechpoints_2'\n",
    "checkpoint_prefix = os.path.join(checkpoints_dir,\"chpt_{epoch}\")\n",
    "checkpoint_callback = tf.keras.callbacks.ModelCheckpoint(\n",
    "    filepath=checkpoint_prefix,\n",
    "    save_weights_only=True\n",
    ")"
   ]
  },
  {
   "cell_type": "code",
   "execution_count": 33,
   "id": "8bb59e51",
   "metadata": {},
   "outputs": [
    {
     "name": "stdout",
     "output_type": "stream",
     "text": [
      "Epoch 1/2\n",
      "184/184 [==============================] - 77s 413ms/step - loss: 2.7692\n",
      "Epoch 2/2\n",
      "184/184 [==============================] - 75s 407ms/step - loss: 2.0622\n"
     ]
    }
   ],
   "source": [
    "histroy = model.fit(dataset,epochs=2,\n",
    "                   callbacks=[checkpoint_callback])"
   ]
  },
  {
   "cell_type": "code",
   "execution_count": 34,
   "id": "06079e6e",
   "metadata": {},
   "outputs": [],
   "source": [
    "model = f_make_model(VS,ED,NU,1)"
   ]
  },
  {
   "cell_type": "code",
   "execution_count": 35,
   "id": "1b57ca3d",
   "metadata": {},
   "outputs": [
    {
     "data": {
      "text/plain": [
       "<tensorflow.python.checkpoint.checkpoint.CheckpointLoadStatus at 0x7f8908913f70>"
      ]
     },
     "execution_count": 35,
     "metadata": {},
     "output_type": "execute_result"
    }
   ],
   "source": [
    "model.load_weights(tf.train.latest_checkpoint(checkpoints_dir))"
   ]
  },
  {
   "cell_type": "code",
   "execution_count": 36,
   "id": "1466ee4f",
   "metadata": {},
   "outputs": [
    {
     "data": {
      "text/plain": [
       "'./tr_chechpoints_2'"
      ]
     },
     "execution_count": 36,
     "metadata": {},
     "output_type": "execute_result"
    }
   ],
   "source": [
    "checkpoints_dir"
   ]
  },
  {
   "cell_type": "code",
   "execution_count": 37,
   "id": "a3116df8",
   "metadata": {},
   "outputs": [],
   "source": [
    "model.build(tf.TensorShape([1,None]))"
   ]
  },
  {
   "cell_type": "code",
   "execution_count": 38,
   "id": "4594dd0b",
   "metadata": {},
   "outputs": [],
   "source": [
    "def f_write_now(model,ss):\n",
    "    N = 2000\n",
    "    ie = [c2i[a] for a in ss]\n",
    "    ie = tf.expand_dims(ie,0)\n",
    "    g_text = []\n",
    "    model.reset_states()\n",
    "    for i in range(N):\n",
    "        p = model(ie)\n",
    "        p = tf.squeeze(p,0)\n",
    "        p_id = tf.random.categorical(p,num_samples=1)[-1,0].numpy()\n",
    "        ie = tf.expand_dims([p_id],0)\n",
    "        g_text.append(i2c[p_id])\n",
    "    return (ss + ''.join(g_text))\n"
   ]
  },
  {
   "cell_type": "code",
   "execution_count": 39,
   "id": "3e280391",
   "metadata": {},
   "outputs": [
    {
     "name": "stdout",
     "output_type": "stream",
     "text": [
      "ROMEO: Go make, buching; sheme,\n",
      "I am no; port uca did dses to.\n",
      "\n",
      "LUCIO:\n",
      "HipeSI Shoves esing be ace of cange of heary mase.\n",
      "\n",
      "omong Porman'd mistr,\n",
      "Kake in thim weld: sele pooven be on folce and thee the bicroo: ast is.\n",
      "Haid!\n",
      "\n",
      "ANOX:\n",
      "Werathy sive have surppee; leaven pimper:\n",
      "Marm his wingivingss br mech upos now would dere me lidf.\n",
      "\n",
      "wILANVIS:\n",
      "Sime learsour?\n",
      "\n",
      "ANCASIO:\n",
      "Net, griak mest hithre weir Inall kistes deen;\n",
      "Is ase more hisely andsere, fion mong.\n",
      "\n",
      "DUCENTES:\n",
      "Afis poopingale ond tomery and feal\n",
      "Timen the troughile mase's tray, Hespar.\n",
      "Dient yea thee mide as, but you the keigt; my life\n",
      "Th, beigh wercuss mo anes eifel.\n",
      "\n",
      "PRUSINCES:\n",
      "If! miked-faruns home my leades,\n",
      "Ifthing prioves steak not seat eact ofee gracive hio.\n",
      "\n",
      "HETRIA:\n",
      "Sfuble! ge\n",
      "Ane meareds'spen;\n",
      "Would sove Kingsus buling, and with hising af fat\n",
      "'Tpowndeave as thispnimes? Butce's as your swating, lown in lought manrat;\n",
      "Buttert more Poand, ser fize whe -root-ther frees faster this of the heavens tild\n",
      "sance.\n",
      "I rodd and deamist but the dore, cunefcerw.\n",
      "\n",
      "PRIASI:\n",
      "Sead morase the foustino-\n",
      "RIKA thames hisedsstain\n",
      "and ithive thes-ssall is son olf as on\n",
      "Histh fech aicr sone whe beme that a more? Grey lias, well more our.\n",
      "\n",
      "ASTA$IO:\n",
      "Wewes. Goptee\n",
      "That, a canmor, sear's sabe mean sif,\n",
      "And charest of that swar the kerver forten of comantear!\n",
      "Thone sorlimadswert, I Var wo spee restinos\n",
      "Your frage my bottrust shewe Nemimen broed\n",
      "Werrifeat the fistise it toopane, fur with thal sup\n",
      "thou digha ushiold fut you and as yoo.\n",
      "Way us you theme; as my berimband.\n",
      "\n",
      "pRONRYAR:\n",
      "I Jamn campeath\n",
      "I umsar'd trents? Kire?\n",
      "\n",
      "BeENTINA:\n",
      "Hool semr and stor ther ancher of ouruet.\n",
      "\n",
      "WAPrINANY IVI Vas of myeed lear,\n",
      "Tune sores ware, ad hid to me vere gio forl dicen endolo;\n",
      "Butime you sis the maknor,\n",
      "wite anded fortanoveld net; st.\n",
      "Kawe thisesie. \n",
      "DUKE VINCENTI HIO:\n",
      "I'll quat, man hise that of wise rees before mighieain'\n",
      "Turneaire! You, so, and to hild;\n",
      "Boing Contoring, your as's spen?\n",
      "\n",
      "ASTETHO:\n",
      "\n",
      "ANIULEN\n",
      "O:\n",
      "Ve heven munt, fot sore, pood\n",
      "If you wored lored's a va\n"
     ]
    }
   ],
   "source": [
    "print(f_write_now(model,u\"ROMEO: \"))"
   ]
  }
 ],
 "metadata": {
  "kernelspec": {
   "display_name": "Python 3 (ipykernel)",
   "language": "python",
   "name": "python3"
  },
  "language_info": {
   "codemirror_mode": {
    "name": "ipython",
    "version": 3
   },
   "file_extension": ".py",
   "mimetype": "text/x-python",
   "name": "python",
   "nbconvert_exporter": "python",
   "pygments_lexer": "ipython3",
   "version": "3.9.7"
  }
 },
 "nbformat": 4,
 "nbformat_minor": 5
}
