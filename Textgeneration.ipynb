{
 "cells": [
  {
   "cell_type": "code",
   "execution_count": 2,
   "id": "85a416d8",
   "metadata": {},
   "outputs": [],
   "source": [
    "import tensorflow as tf\n",
    "import numpy as np\n",
    "import os"
   ]
  },
  {
   "cell_type": "code",
   "execution_count": 3,
   "id": "0619e5e9",
   "metadata": {},
   "outputs": [],
   "source": [
    "file = '/home/mitraa/shaksepeare'"
   ]
  },
  {
   "cell_type": "code",
   "execution_count": 4,
   "id": "2af11f81",
   "metadata": {},
   "outputs": [
    {
     "data": {
      "text/plain": [
       "str"
      ]
     },
     "execution_count": 4,
     "metadata": {},
     "output_type": "execute_result"
    }
   ],
   "source": [
    "type(file)"
   ]
  },
  {
   "cell_type": "code",
   "execution_count": 5,
   "id": "7f8b6544",
   "metadata": {},
   "outputs": [
    {
     "data": {
      "text/plain": [
       "str"
      ]
     },
     "execution_count": 5,
     "metadata": {},
     "output_type": "execute_result"
    }
   ],
   "source": [
    "text = open(file, 'rb').read().decode(encoding='utf-8')\n",
    "type(text)"
   ]
  },
  {
   "cell_type": "code",
   "execution_count": 6,
   "id": "b3dd0808",
   "metadata": {},
   "outputs": [
    {
     "name": "stdout",
     "output_type": "stream",
     "text": [
      "First Citizen:\n",
      "Before we proceed any further, hear me speak.\n",
      "\n",
      "All:\n",
      "Speak, speak.\n",
      "\n",
      "First Citizen:\n",
      "You are all resolved rather to die than to famish?\n",
      "\n",
      "All:\n",
      "Resolved. resolved.\n",
      "\n",
      "First Citizen:\n",
      "First, you know Caius Marcius is chief enemy to the people.\n",
      "\n",
      "All:\n",
      "We know't, we know't.\n",
      "\n",
      "First Citizen:\n",
      "Let us kill him, and we'll have corn at our own price.\n",
      "Is't a verdict?\n",
      "\n",
      "All:\n",
      "No more talking on't; let it be done: away, away!\n",
      "\n",
      "Second Citizen:\n",
      "One word, good citizens.\n",
      "\n",
      "First Citizen:\n",
      "We are accounted poor citizens, the patricians good.\n",
      "What authority surfeits on would relieve us: if they\n",
      "would yield us but the superfluity, while it were\n",
      "wholesome, we might guess they relieved us humanely;\n",
      "but they think we are too dear: the leanness that\n",
      "afflicts us, the object of our misery, is as an\n",
      "inventory to particularise their abundance; our\n",
      "sufferance is a gain to them Let us revenge this with\n",
      "our pikes, ere we become rakes: for the gods know I\n",
      "speak this in hunger for bread, not in thirst for revenge.\n",
      "\n",
      "\n"
     ]
    }
   ],
   "source": [
    "print(text[:1000])"
   ]
  },
  {
   "cell_type": "code",
   "execution_count": 7,
   "id": "0c93d343",
   "metadata": {},
   "outputs": [
    {
     "data": {
      "text/plain": [
       "1115394"
      ]
     },
     "execution_count": 7,
     "metadata": {},
     "output_type": "execute_result"
    }
   ],
   "source": [
    "len(text)"
   ]
  },
  {
   "cell_type": "code",
   "execution_count": 8,
   "id": "5d9a1f0e",
   "metadata": {},
   "outputs": [
    {
     "data": {
      "text/plain": [
       "65"
      ]
     },
     "execution_count": 8,
     "metadata": {},
     "output_type": "execute_result"
    }
   ],
   "source": [
    "# how many unique carachters are \n",
    "len(set(text))"
   ]
  },
  {
   "cell_type": "code",
   "execution_count": 9,
   "id": "3bcf6d45",
   "metadata": {},
   "outputs": [
    {
     "data": {
      "text/plain": [
       "['\\n',\n",
       " ' ',\n",
       " '!',\n",
       " '$',\n",
       " '&',\n",
       " \"'\",\n",
       " ',',\n",
       " '-',\n",
       " '.',\n",
       " '3',\n",
       " ':',\n",
       " ';',\n",
       " '?',\n",
       " 'A',\n",
       " 'B',\n",
       " 'C',\n",
       " 'D',\n",
       " 'E',\n",
       " 'F',\n",
       " 'G',\n",
       " 'H',\n",
       " 'I',\n",
       " 'J',\n",
       " 'K',\n",
       " 'L',\n",
       " 'M',\n",
       " 'N',\n",
       " 'O',\n",
       " 'P',\n",
       " 'Q',\n",
       " 'R',\n",
       " 'S',\n",
       " 'T',\n",
       " 'U',\n",
       " 'V',\n",
       " 'W',\n",
       " 'X',\n",
       " 'Y',\n",
       " 'Z',\n",
       " 'a',\n",
       " 'b',\n",
       " 'c',\n",
       " 'd',\n",
       " 'e',\n",
       " 'f',\n",
       " 'g',\n",
       " 'h',\n",
       " 'i',\n",
       " 'j',\n",
       " 'k',\n",
       " 'l',\n",
       " 'm',\n",
       " 'n',\n",
       " 'o',\n",
       " 'p',\n",
       " 'q',\n",
       " 'r',\n",
       " 's',\n",
       " 't',\n",
       " 'u',\n",
       " 'v',\n",
       " 'w',\n",
       " 'x',\n",
       " 'y',\n",
       " 'z']"
      ]
     },
     "execution_count": 9,
     "metadata": {},
     "output_type": "execute_result"
    }
   ],
   "source": [
    "vocab = sorted(set(text))\n",
    "vocab"
   ]
  },
  {
   "cell_type": "code",
   "execution_count": 10,
   "id": "f4a8ec8c",
   "metadata": {},
   "outputs": [
    {
     "data": {
      "text/plain": [
       "{'\\n': 0,\n",
       " ' ': 1,\n",
       " '!': 2,\n",
       " '$': 3,\n",
       " '&': 4,\n",
       " \"'\": 5,\n",
       " ',': 6,\n",
       " '-': 7,\n",
       " '.': 8,\n",
       " '3': 9,\n",
       " ':': 10,\n",
       " ';': 11,\n",
       " '?': 12,\n",
       " 'A': 13,\n",
       " 'B': 14,\n",
       " 'C': 15,\n",
       " 'D': 16,\n",
       " 'E': 17,\n",
       " 'F': 18,\n",
       " 'G': 19,\n",
       " 'H': 20,\n",
       " 'I': 21,\n",
       " 'J': 22,\n",
       " 'K': 23,\n",
       " 'L': 24,\n",
       " 'M': 25,\n",
       " 'N': 26,\n",
       " 'O': 27,\n",
       " 'P': 28,\n",
       " 'Q': 29,\n",
       " 'R': 30,\n",
       " 'S': 31,\n",
       " 'T': 32,\n",
       " 'U': 33,\n",
       " 'V': 34,\n",
       " 'W': 35,\n",
       " 'X': 36,\n",
       " 'Y': 37,\n",
       " 'Z': 38,\n",
       " 'a': 39,\n",
       " 'b': 40,\n",
       " 'c': 41,\n",
       " 'd': 42,\n",
       " 'e': 43,\n",
       " 'f': 44,\n",
       " 'g': 45,\n",
       " 'h': 46,\n",
       " 'i': 47,\n",
       " 'j': 48,\n",
       " 'k': 49,\n",
       " 'l': 50,\n",
       " 'm': 51,\n",
       " 'n': 52,\n",
       " 'o': 53,\n",
       " 'p': 54,\n",
       " 'q': 55,\n",
       " 'r': 56,\n",
       " 's': 57,\n",
       " 't': 58,\n",
       " 'u': 59,\n",
       " 'v': 60,\n",
       " 'w': 61,\n",
       " 'x': 62,\n",
       " 'y': 63,\n",
       " 'z': 64}"
      ]
     },
     "execution_count": 10,
     "metadata": {},
     "output_type": "execute_result"
    }
   ],
   "source": [
    "c2i = {a:i for i,a in enumerate(vocab)}\n",
    "c2i"
   ]
  },
  {
   "cell_type": "code",
   "execution_count": 11,
   "id": "225bf060",
   "metadata": {},
   "outputs": [
    {
     "data": {
      "text/plain": [
       "62"
      ]
     },
     "execution_count": 11,
     "metadata": {},
     "output_type": "execute_result"
    }
   ],
   "source": [
    "c2i['x']"
   ]
  },
  {
   "cell_type": "code",
   "execution_count": 12,
   "id": "df00889c",
   "metadata": {},
   "outputs": [
    {
     "data": {
      "text/plain": [
       "'x'"
      ]
     },
     "execution_count": 12,
     "metadata": {},
     "output_type": "execute_result"
    }
   ],
   "source": [
    "i2c = np.array(vocab)\n",
    "i2c[62]"
   ]
  },
  {
   "cell_type": "code",
   "execution_count": 13,
   "id": "83cb8149",
   "metadata": {},
   "outputs": [
    {
     "data": {
      "text/plain": [
       "array([18, 47, 56, 57, 58,  1, 15, 47, 58, 47])"
      ]
     },
     "execution_count": 13,
     "metadata": {},
     "output_type": "execute_result"
    }
   ],
   "source": [
    "text_as_seq_of_ints = np.array([c2i[a] for a in text])\n",
    "text_as_seq_of_ints[:10]"
   ]
  },
  {
   "cell_type": "code",
   "execution_count": 14,
   "id": "441b5e77",
   "metadata": {},
   "outputs": [
    {
     "data": {
      "text/plain": [
       "array(['F', 'i', 'r', 's', 't', ' ', 'C', 'i', 't', 'i'], dtype='<U1')"
      ]
     },
     "execution_count": 14,
     "metadata": {},
     "output_type": "execute_result"
    }
   ],
   "source": [
    "i2c[text_as_seq_of_ints[:10]]"
   ]
  },
  {
   "cell_type": "code",
   "execution_count": 15,
   "id": "ac8d0c76",
   "metadata": {},
   "outputs": [],
   "source": [
    "seq_length = 120\n",
    "examples_per_epoch = len(text)//(seq_length+1)"
   ]
  },
  {
   "cell_type": "code",
   "execution_count": 17,
   "id": "a3240715",
   "metadata": {},
   "outputs": [],
   "source": [
    "char_dataset = tf.data.Dataset.from_tensor_slices(text_as_seq_of_ints)"
   ]
  },
  {
   "cell_type": "code",
   "execution_count": 18,
   "id": "0c5b108d",
   "metadata": {},
   "outputs": [
    {
     "name": "stdout",
     "output_type": "stream",
     "text": [
      "F 18\n",
      "i 47\n",
      "r 56\n",
      "s 57\n",
      "t 58\n",
      "  1\n",
      "C 15\n",
      "i 47\n",
      "t 58\n",
      "i 47\n",
      "z 64\n",
      "e 43\n",
      "n 52\n",
      ": 10\n",
      "\n",
      " 0\n",
      "B 14\n",
      "e 43\n",
      "f 44\n",
      "o 53\n",
      "r 56\n"
     ]
    }
   ],
   "source": [
    "for i in char_dataset.take(20):\n",
    "    print(i2c[i.numpy()],i.numpy())"
   ]
  },
  {
   "cell_type": "code",
   "execution_count": 19,
   "id": "596fbc6d",
   "metadata": {},
   "outputs": [],
   "source": [
    "seq = char_dataset.batch(seq_length+1,drop_remainder=True)"
   ]
  },
  {
   "cell_type": "code",
   "execution_count": 20,
   "id": "9798e7df",
   "metadata": {},
   "outputs": [
    {
     "name": "stdout",
     "output_type": "stream",
     "text": [
      "['F' 'i' 'r' 's' 't' ' ' 'C' 'i' 't' 'i' 'z' 'e' 'n' ':' '\\n' 'B' 'e' 'f'\n",
      " 'o' 'r' 'e' ' ' 'w' 'e' ' ' 'p' 'r' 'o' 'c' 'e' 'e' 'd' ' ' 'a' 'n' 'y'\n",
      " ' ' 'f' 'u' 'r' 't' 'h' 'e' 'r' ',' ' ' 'h' 'e' 'a' 'r' ' ' 'm' 'e' ' '\n",
      " 's' 'p' 'e' 'a' 'k' '.' '\\n' '\\n' 'A' 'l' 'l' ':' '\\n' 'S' 'p' 'e' 'a'\n",
      " 'k' ',' ' ' 's' 'p' 'e' 'a' 'k' '.' '\\n' '\\n' 'F' 'i' 'r' 's' 't' ' ' 'C'\n",
      " 'i' 't' 'i' 'z' 'e' 'n' ':' '\\n' 'Y' 'o' 'u' ' ' 'a' 'r' 'e' ' ' 'a' 'l'\n",
      " 'l' ' ' 'r' 'e' 's' 'o' 'l' 'v' 'e' 'd' ' ' 'r' 'a' 't']\n",
      "['h' 'e' 'r' ' ' 't' 'o' ' ' 'd' 'i' 'e' ' ' 't' 'h' 'a' 'n' ' ' 't' 'o'\n",
      " ' ' 'f' 'a' 'm' 'i' 's' 'h' '?' '\\n' '\\n' 'A' 'l' 'l' ':' '\\n' 'R' 'e'\n",
      " 's' 'o' 'l' 'v' 'e' 'd' '.' ' ' 'r' 'e' 's' 'o' 'l' 'v' 'e' 'd' '.' '\\n'\n",
      " '\\n' 'F' 'i' 'r' 's' 't' ' ' 'C' 'i' 't' 'i' 'z' 'e' 'n' ':' '\\n' 'F' 'i'\n",
      " 'r' 's' 't' ',' ' ' 'y' 'o' 'u' ' ' 'k' 'n' 'o' 'w' ' ' 'C' 'a' 'i' 'u'\n",
      " 's' ' ' 'M' 'a' 'r' 'c' 'i' 'u' 's' ' ' 'i' 's' ' ' 'c' 'h' 'i' 'e' 'f'\n",
      " ' ' 'e' 'n' 'e' 'm' 'y' ' ' 't' 'o' ' ' 't' 'h' 'e' ' ']\n"
     ]
    }
   ],
   "source": [
    "for i in seq.take(2):\n",
    "    print(i2c[i.numpy()])"
   ]
  },
  {
   "cell_type": "code",
   "execution_count": 21,
   "id": "d0758429",
   "metadata": {},
   "outputs": [],
   "source": [
    "def f_make_input_target_pairs(s):\n",
    "    input_text = s[:-1]\n",
    "    target_text = s[1:]\n",
    "    return input_text,target_text\n"
   ]
  },
  {
   "cell_type": "code",
   "execution_count": 22,
   "id": "ecff2aa9",
   "metadata": {},
   "outputs": [],
   "source": [
    "dataset = seq.map(f_make_input_target_pairs)"
   ]
  },
  {
   "cell_type": "code",
   "execution_count": 23,
   "id": "2d9d5a4f",
   "metadata": {},
   "outputs": [
    {
     "name": "stdout",
     "output_type": "stream",
     "text": [
      "['F' 'i' 'r' 's' 't' ' ' 'C' 'i' 't' 'i' 'z' 'e' 'n' ':' '\\n' 'B' 'e' 'f'\n",
      " 'o' 'r' 'e' ' ' 'w' 'e' ' ' 'p' 'r' 'o' 'c' 'e' 'e' 'd' ' ' 'a' 'n' 'y'\n",
      " ' ' 'f' 'u' 'r' 't' 'h' 'e' 'r' ',' ' ' 'h' 'e' 'a' 'r' ' ' 'm' 'e' ' '\n",
      " 's' 'p' 'e' 'a' 'k' '.' '\\n' '\\n' 'A' 'l' 'l' ':' '\\n' 'S' 'p' 'e' 'a'\n",
      " 'k' ',' ' ' 's' 'p' 'e' 'a' 'k' '.' '\\n' '\\n' 'F' 'i' 'r' 's' 't' ' ' 'C'\n",
      " 'i' 't' 'i' 'z' 'e' 'n' ':' '\\n' 'Y' 'o' 'u' ' ' 'a' 'r' 'e' ' ' 'a' 'l'\n",
      " 'l' ' ' 'r' 'e' 's' 'o' 'l' 'v' 'e' 'd' ' ' 'r' 'a']\n",
      "['i' 'r' 's' 't' ' ' 'C' 'i' 't' 'i' 'z' 'e' 'n' ':' '\\n' 'B' 'e' 'f' 'o'\n",
      " 'r' 'e' ' ' 'w' 'e' ' ' 'p' 'r' 'o' 'c' 'e' 'e' 'd' ' ' 'a' 'n' 'y' ' '\n",
      " 'f' 'u' 'r' 't' 'h' 'e' 'r' ',' ' ' 'h' 'e' 'a' 'r' ' ' 'm' 'e' ' ' 's'\n",
      " 'p' 'e' 'a' 'k' '.' '\\n' '\\n' 'A' 'l' 'l' ':' '\\n' 'S' 'p' 'e' 'a' 'k'\n",
      " ',' ' ' 's' 'p' 'e' 'a' 'k' '.' '\\n' '\\n' 'F' 'i' 'r' 's' 't' ' ' 'C' 'i'\n",
      " 't' 'i' 'z' 'e' 'n' ':' '\\n' 'Y' 'o' 'u' ' ' 'a' 'r' 'e' ' ' 'a' 'l' 'l'\n",
      " ' ' 'r' 'e' 's' 'o' 'l' 'v' 'e' 'd' ' ' 'r' 'a' 't']\n"
     ]
    }
   ],
   "source": [
    "for X,y in dataset.take(1):\n",
    "    print(i2c[X.numpy()])\n",
    "    print(i2c[y.numpy()])"
   ]
  },
  {
   "cell_type": "code",
   "execution_count": 24,
   "id": "e3afb45f",
   "metadata": {},
   "outputs": [],
   "source": [
    "BS = 50\n",
    "dataset = dataset.shuffle(1000).batch(BS,drop_remainder=True)"
   ]
  },
  {
   "cell_type": "code",
   "execution_count": 25,
   "id": "4b7d292d",
   "metadata": {},
   "outputs": [],
   "source": [
    "VS = len(vocab)\n",
    "ED = 100\n",
    "NU = 1024"
   ]
  },
  {
   "cell_type": "code",
   "execution_count": 26,
   "id": "f0c5a22b",
   "metadata": {},
   "outputs": [],
   "source": [
    "def f_make_model(VS,ED,NU,BS):\n",
    "    model = tf.keras.Sequential([\n",
    "        tf.keras.layers.Embedding(VS,ED,\n",
    "                                  batch_input_shape=[BS,None]),\n",
    "        tf.keras.layers.GRU(NU,return_sequences=True,\n",
    "                           stateful=True),\n",
    "        tf.keras.layers.Dense(VS)\n",
    "    ])\n",
    "    return model"
   ]
  },
  {
   "cell_type": "code",
   "execution_count": 27,
   "id": "72b79c16",
   "metadata": {},
   "outputs": [],
   "source": [
    "model = f_make_model(VS,ED,NU,BS)"
   ]
  },
  {
   "cell_type": "code",
   "execution_count": 28,
   "id": "2fc56ad5",
   "metadata": {},
   "outputs": [],
   "source": [
    "def f_loss(y,y_hat):\n",
    "    return tf.keras.losses.sparse_categorical_crossentropy(y,y_hat,from_logits=True)\n"
   ]
  },
  {
   "cell_type": "code",
   "execution_count": 29,
   "id": "dcc58016",
   "metadata": {},
   "outputs": [],
   "source": [
    "model.compile(optimizer='adam',loss=f_loss)"
   ]
  },
  {
   "cell_type": "code",
   "execution_count": 30,
   "id": "7caf376b",
   "metadata": {},
   "outputs": [],
   "source": [
    "checkpoints_dir = './tr_chechpoints_2'\n",
    "checkpoint_prefix = os.path.join(checkpoints_dir,\"chpt_{epoch}\")\n",
    "checkpoint_callback = tf.keras.callbacks.ModelCheckpoint(\n",
    "    filepath=checkpoint_prefix,\n",
    "    save_weights_only=True\n",
    ")\n"
   ]
  },
  {
   "cell_type": "code",
   "execution_count": 31,
   "id": "6329c456",
   "metadata": {},
   "outputs": [
    {
     "name": "stdout",
     "output_type": "stream",
     "text": [
      "Epoch 1/2\n",
      "184/184 [==============================] - 80s 428ms/step - loss: 2.8279\n",
      "Epoch 2/2\n",
      "184/184 [==============================] - 76s 414ms/step - loss: 2.0938\n"
     ]
    }
   ],
   "source": [
    "histroy = model.fit(dataset,epochs=2,\n",
    "                   callbacks=[checkpoint_callback])"
   ]
  },
  {
   "cell_type": "code",
   "execution_count": 32,
   "id": "c36fc80a",
   "metadata": {},
   "outputs": [],
   "source": [
    "model = f_make_model(VS,ED,NU,1)"
   ]
  },
  {
   "cell_type": "code",
   "execution_count": 33,
   "id": "a3f32531",
   "metadata": {},
   "outputs": [
    {
     "data": {
      "text/plain": [
       "<tensorflow.python.checkpoint.checkpoint.CheckpointLoadStatus at 0x7f1ed19248b0>"
      ]
     },
     "execution_count": 33,
     "metadata": {},
     "output_type": "execute_result"
    }
   ],
   "source": [
    "model.load_weights(tf.train.latest_checkpoint(checkpoints_dir))"
   ]
  },
  {
   "cell_type": "code",
   "execution_count": 34,
   "id": "215fa717",
   "metadata": {},
   "outputs": [
    {
     "data": {
      "text/plain": [
       "'./tr_chechpoints_2'"
      ]
     },
     "execution_count": 34,
     "metadata": {},
     "output_type": "execute_result"
    }
   ],
   "source": [
    "checkpoints_dir"
   ]
  },
  {
   "cell_type": "code",
   "execution_count": 35,
   "id": "7940bb77",
   "metadata": {},
   "outputs": [],
   "source": [
    "model.build(tf.TensorShape([1,None]))"
   ]
  },
  {
   "cell_type": "code",
   "execution_count": 36,
   "id": "36489ffc",
   "metadata": {},
   "outputs": [],
   "source": [
    "def f_write_now(model,ss):\n",
    "    N = 2000\n",
    "    ie = [c2i[a] for a in ss]\n",
    "    ie = tf.expand_dims(ie,0)\n",
    "    g_text = []\n",
    "    model.reset_states()\n",
    "    for i in range(N):\n",
    "        p = model(ie)\n",
    "        p = tf.squeeze(p,0)\n",
    "        p_id = tf.random.categorical(p,num_samples=1)[-1,0].numpy()\n",
    "        ie = tf.expand_dims([p_id],0)\n",
    "        g_text.append(i2c[p_id])\n",
    "    return (ss + ''.join(g_text))"
   ]
  },
  {
   "cell_type": "code",
   "execution_count": 37,
   "id": "cdb45530",
   "metadata": {},
   "outputs": [
    {
     "name": "stdout",
     "output_type": "stream",
     "text": [
      "ROMEO: Houed\n",
      "So onchare, but harghe pold'toverous of myreint thil then you?\n",
      "\n",
      "DORAENLABDIO:\n",
      "\n",
      "'STISHAND VINATELELO:\n",
      "Sord bod howe stablinn,.\n",
      "\n",
      "PETABIAS:\n",
      "Hy med-lead of the far is alf hear wotcis:\n",
      "Tho paile us a now thene be me,\n",
      "Ane thouch on mar,\n",
      "For greak, on my senill,\n",
      "A dathinged let comecfien ow you shabl mest-.\n",
      "\n",
      "LURENA:\n",
      "I fove trem be mes take theake thoo wo greater\n",
      "Hark prowith come usteriin hanct\n",
      "Be have in to dohe, and, foins's at love.\n",
      "Thas your huse promen blleakseracan the hord withow mas tat;\n",
      "Hes fat I you love.\n",
      "Why sagfthoving.\n",
      "\n",
      "LORTE:\n",
      "E shas a hea?\n",
      "As wellan woth your daseld make and, Arem,\n",
      "And your hav, e spayt than; whom ispee, rat it chart\n",
      "Do brace mo manken's tuart decame'crek,\n",
      "Whacy brungat you river elll jutine.\n",
      "\n",
      "DUCENTIO:\n",
      "You gook Hine, ariagly, as jeilt.\n",
      "Whe the hio's wnow dingr stoule,\n",
      "I om in oferion hest. A'd wat ho'd by the\n",
      "searn thy mareabuse wo\n",
      "Natt in faliptired of bline!\n",
      "Sore tothersO, it hemlester of hit hat licklans bent yourcer.\n",
      "\n",
      "KETALLA:\n",
      "Hat, go warsulve, Will he leage;\n",
      "The rainaly sarning the lecas ar vence the wower\n",
      "This bust is, eels an's as foth you\n",
      "Degwer now thee back'd Kered, I sook her ov yia, Thunk your slopp.\n",
      "\n",
      "ANTEOND:\n",
      "Kfock, wile andertusel choroping ag my tonge-sty\n",
      "Detore if tho mareridabe:\n",
      "Hathiry sucke, alt thay so ling wir.\n",
      "\n",
      "ALPELIAL:\n",
      "Athor oben count on thit na jutigo?\n",
      "Fad in tlouk wit danth hio hemener this bray.\n",
      "\n",
      "SSApPESRO:\n",
      "Ay, sray a wall my yengser anrestled shat commanid:\n",
      "Ay dond'd! nem, proaid'\n",
      "Mand here kine, for and the tr mo grust I bee det, Has muster.\n",
      "\n",
      "Bucost:\n",
      "Framwore wild al the mave wy Praming co;\n",
      "A, my a father to neme dish mith and ande.\n",
      "\n",
      "Pirot is lirdf';\n",
      "Thot nome my lla-d'Th blent?\n",
      "I peand thee, so doo\n",
      "fersens for the sigext?.\n",
      "Thet I\n",
      "'gos'd not?\n",
      "\n",
      "SOM&KAN:\n",
      "Sy anvordo, me reawce\n",
      "As etty by det hast refficlave:\n",
      "And shay I rind, no lavel as nos awpo sild should wome my ofbyou, what it pramen to antere,\n",
      "Faind son with you ard porta; to your waling.\n",
      "\n",
      "\n",
      "DICCANTIO:\n",
      "May ach. Celath?\n",
      "\n",
      "TRACHIO:\n",
      "Nor glees Gfino, thin this\n"
     ]
    }
   ],
   "source": [
    "print(f_write_now(model,u\"ROMEO: \"))"
   ]
  },
  {
   "cell_type": "code",
   "execution_count": null,
   "id": "4056a0be",
   "metadata": {},
   "outputs": [],
   "source": []
  }
 ],
 "metadata": {
  "kernelspec": {
   "display_name": "Python 3 (ipykernel)",
   "language": "python",
   "name": "python3"
  },
  "language_info": {
   "codemirror_mode": {
    "name": "ipython",
    "version": 3
   },
   "file_extension": ".py",
   "mimetype": "text/x-python",
   "name": "python",
   "nbconvert_exporter": "python",
   "pygments_lexer": "ipython3",
   "version": "3.9.7"
  }
 },
 "nbformat": 4,
 "nbformat_minor": 5
}
